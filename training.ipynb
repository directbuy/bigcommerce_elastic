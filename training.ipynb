{
 "cells": [
  {
   "cell_type": "markdown",
   "metadata": {},
   "source": [
    "## Connecting to elasticsearch\n",
    "\n",
    "You can use the snippet below to connect to elasticsearch.\n",
    "\n",
    "```python\n",
    "from elasticsearch import Elasticsearch\n",
    "es = Elasticsearch(hosts=[ 'https://cast-elastic.bon-bon.org' ])\n",
    "es.info()\n",
    "```"
   ]
  },
  {
   "cell_type": "code",
   "execution_count": null,
   "metadata": {},
   "outputs": [],
   "source": []
  },
  {
   "cell_type": "markdown",
   "metadata": {},
   "source": [
    "## Searching for products\n",
    "\n",
    "You can search for products using the `elasticsearch_dsl` module.  Here is a sample:\n",
    "\n",
    "```python\n",
    "from elasticsearch_dsl import *\n",
    "base = Search(index='bigcommerce').using(es)\n",
    "query = base.query('match_phrase_prefix', bin_picking_number='square')\n",
    "results = query.execute(True)\n",
    "```\n",
    "\n",
    "The search above will search against the `bigcommerce` elasticsearch index.  If you recall,\n",
    "the `bigcommerce` index contains a fairly up to date copy of the product information \n",
    "about products in elasticsearch.  The search above looks for all products whose \n",
    "`bin_picking_number` starts with `square`.  "
   ]
  },
  {
   "cell_type": "code",
   "execution_count": null,
   "metadata": {},
   "outputs": [],
   "source": []
  },
  {
   "cell_type": "markdown",
   "metadata": {},
   "source": [
    "## using your results\n",
    "\n",
    "You loop through your results in order to see what you have:\n",
    "\n",
    "```python\n",
    "for x in results.hits[:10]:\n",
    "    print(f'{x.name} {x.sku} {x.bin_picking_number}')\n",
    "```\n",
    "\n",
    "Here, for demonstration we use `[:10]` to limit our output to just the\n",
    "first ten products.  Elasticsearch does not guarantee any sorting of the\n",
    "results it returns to you."
   ]
  },
  {
   "cell_type": "code",
   "execution_count": null,
   "metadata": {},
   "outputs": [],
   "source": []
  },
  {
   "cell_type": "markdown",
   "metadata": {},
   "source": [
    "## scanning all results\n",
    "\n",
    "By default, elasticsearch will only return a small subset of all products to you.  \n",
    "If you want all of the results, use `scan()`.  e.g.,\n",
    "\n",
    "```python\n",
    "for x in query.scan():\n",
    "    print(f'{x.bin_picking_number}')\n",
    "```"
   ]
  },
  {
   "cell_type": "code",
   "execution_count": null,
   "metadata": {},
   "outputs": [],
   "source": []
  },
  {
   "cell_type": "markdown",
   "metadata": {},
   "source": [
    "# children\n",
    "\n",
    "Recall that products can have variants, such as different sizs or colors of a\n",
    "particular product.  In elasticsearch, these are found in each products\n",
    "`variants` attribute.  Here is an example of searching for all child\n",
    "products that are associated with rgg:\n",
    "\n",
    "```python\n",
    "base = Search(index='bigcommerce').using(es)\n",
    "query = base.query('prefix', variants__bin_picking_number__keyword='***rgg***')\n",
    "results = query.execute(True)\n",
    "for x in results.hits[:10]:\n",
    "    for variant in x.variants:\n",
    "        print(f'{variant.sku:30} {variant.bin_picking_number}')\n",
    "```\n",
    "\n",
    "We searched the variant-level `bin_picking_number` by prefixing it with `variants__`.\n",
    "Note that when you use a `prefix` query, you have to use the `keyword` field like \n",
    "we did in the example above."
   ]
  },
  {
   "cell_type": "code",
   "execution_count": null,
   "metadata": {},
   "outputs": [],
   "source": []
  },
  {
   "cell_type": "markdown",
   "metadata": {},
   "source": [
    "## creating a csv\n",
    "\n",
    "Let's say you've gotten a query, and you want to format your results into a csv.\n",
    "You can do that using the `csv` module which will format csvs for you automatically.\n",
    "Here's an example of writing query results to a csv.\n",
    "\n",
    "```python\n",
    "base = Search(index='bigcommerce').using(es)\n",
    "conditions = Q('prefix', bin_picking_number__keyword='***rgg***')\n",
    "conditions |= Q('prefix', variants__bin_picking_number__keyword='***rgg***')\n",
    "search = base.query(conditions)\n",
    "\n",
    "import csv\n",
    "with open('c:/Users/username/Documents/hello.txt', 'w', encoding='utf-8') as f:\n",
    "    writer = csv.writer(f)\n",
    "    # write the header\n",
    "    writer.writerow([ 'bigcommerce_product_id', 'bin_picking_number', \n",
    "                      'bigcommerce_variant_id', 'variant_bin_picking_number', \n",
    "                      'inventory_level' ])\n",
    "    for product in search.scan():\n",
    "        row = [ f'{product.id}', product.bin_picking_number, '', '', f'{product.inventory_level}' ]\n",
    "        writer.writerow(row)\n",
    "        if not product.variants:\n",
    "            continue\n",
    "        for variant in product.variants:\n",
    "            row = [ f'{product.id}', product.bin_picking_number, \n",
    "                   f'{variant.id}', variant.bin_picking_number, f'{variant.inventory_level}' ]\n",
    "            writer.writerow(row)\n",
    "```\n",
    "\n",
    "If you're paying attention, you'll see we've dropped you into some advanced query usage\n",
    "above.  We've searched for products whose `bin_picking_number` is prefixed with `***rgg***` \n",
    "**OR** for products whose children have `bin_picking_number` prefixed with `***rgg***`."
   ]
  },
  {
   "cell_type": "code",
   "execution_count": null,
   "metadata": {},
   "outputs": [],
   "source": []
  },
  {
   "cell_type": "code",
   "execution_count": null,
   "metadata": {},
   "outputs": [],
   "source": []
  },
  {
   "cell_type": "code",
   "execution_count": null,
   "metadata": {},
   "outputs": [],
   "source": []
  },
  {
   "cell_type": "code",
   "execution_count": null,
   "metadata": {},
   "outputs": [],
   "source": []
  }
 ],
 "metadata": {
  "kernelspec": {
   "display_name": "Python 3",
   "language": "python",
   "name": "python3"
  },
  "language_info": {
   "codemirror_mode": {
    "name": "ipython",
    "version": 3
   },
   "file_extension": ".py",
   "mimetype": "text/x-python",
   "name": "python",
   "nbconvert_exporter": "python",
   "pygments_lexer": "ipython3",
   "version": "3.6.6"
  }
 },
 "nbformat": 4,
 "nbformat_minor": 2
}
