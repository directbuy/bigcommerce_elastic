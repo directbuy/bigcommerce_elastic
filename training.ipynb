{
 "cells": [
  {
   "cell_type": "code",
   "execution_count": 1,
   "metadata": {},
   "outputs": [],
   "source": [
    "from elasticsearch import Elasticsearch"
   ]
  },
  {
   "cell_type": "code",
   "execution_count": 2,
   "metadata": {},
   "outputs": [],
   "source": [
    "es = Elasticsearch(hosts=[ 'https://cast-elastic.bon-bon.org' ])"
   ]
  },
  {
   "cell_type": "code",
   "execution_count": 3,
   "metadata": {},
   "outputs": [
    {
     "data": {
      "text/plain": [
       "{'name': 'O87c2Om',\n",
       " 'cluster_name': 'catalytic_cast',\n",
       " 'cluster_uuid': '4f0K_lGJQxmCmRoIBLm8mw',\n",
       " 'version': {'number': '6.5.1',\n",
       "  'build_flavor': 'default',\n",
       "  'build_type': 'rpm',\n",
       "  'build_hash': '8c58350',\n",
       "  'build_date': '2018-11-16T02:22:42.182257Z',\n",
       "  'build_snapshot': False,\n",
       "  'lucene_version': '7.5.0',\n",
       "  'minimum_wire_compatibility_version': '5.6.0',\n",
       "  'minimum_index_compatibility_version': '5.0.0'},\n",
       " 'tagline': 'You Know, for Search'}"
      ]
     },
     "execution_count": 3,
     "metadata": {},
     "output_type": "execute_result"
    }
   ],
   "source": [
    "es.info()"
   ]
  },
  {
   "cell_type": "code",
   "execution_count": 4,
   "metadata": {},
   "outputs": [],
   "source": [
    "from elasticsearch_dsl import *"
   ]
  },
  {
   "cell_type": "code",
   "execution_count": 5,
   "metadata": {},
   "outputs": [],
   "source": [
    "base = Search(index='bigcommerce').using(es)"
   ]
  },
  {
   "cell_type": "code",
   "execution_count": null,
   "metadata": {},
   "outputs": [],
   "source": []
  },
  {
   "cell_type": "code",
   "execution_count": 6,
   "metadata": {},
   "outputs": [],
   "source": [
    "result = base.query('match_phrase_prefix', bin_picking_number='square').execute()"
   ]
  },
  {
   "cell_type": "code",
   "execution_count": 7,
   "metadata": {},
   "outputs": [
    {
     "data": {
      "text/plain": [
       "181"
      ]
     },
     "execution_count": 7,
     "metadata": {},
     "output_type": "execute_result"
    }
   ],
   "source": [
    "result.hits.total"
   ]
  },
  {
   "cell_type": "code",
   "execution_count": 8,
   "metadata": {},
   "outputs": [
    {
     "name": "stdout",
     "output_type": "stream",
     "text": [
      "product,Baretraps Avita cold weather boot- Whiskey~BT24425.BT24425,square***Baretraps\n",
      "sku,,BT24425~7,square***Baretraps***825443925679\n",
      "sku,,BT24425~7.5,square***Baretraps***825443925686\n",
      "sku,,BT24425~8,square***Baretraps***825443925693\n",
      "sku,,BT24425~8.5,square***Baretraps***825443925709\n",
      "sku,,BT24425~9,square***Baretraps***825443925716\n",
      "sku,,BT24425~9.5,square***Baretraps***error\n",
      "sku,,BT24425~10,square***Baretraps***825443925730\n",
      "sku,,BT24425~11,square***Baretraps***825443925747\n",
      "product,Baretraps Rosea short ankle bootie- Black~BT25096.BT25096,square***Baretraps\n",
      "sku,,BT25096~6,square***Baretraps***825443093156\n",
      "sku,,BT25096~6.5,square***Baretraps***825443093163\n",
      "sku,,BT25096~7,square***Baretraps***825443093170\n",
      "sku,,BT25096~7.5,square***Baretraps***825443093187\n",
      "sku,,BT25096~8,square***Baretraps***825443093194\n",
      "sku,,BT25096~8.5,square***Baretraps***825443093200\n",
      "sku,,BT25096~9,square***Baretraps***825443093217\n",
      "sku,,BT25096~9.5,square***Baretraps***825443093224\n",
      "sku,,BT25096~10,square***Baretraps***825443093231\n",
      "sku,,BT25096~11,square***Baretraps***825443093248\n",
      "product,Baretraps Rosea short ankle bootie- Brush Brown~BT25181.BT25181,square***Baretraps\n",
      "sku,,BT25181~7.5,square***Baretraps***error\n",
      "sku,,BT25181~8,square***Baretraps***825443164634\n",
      "sku,,BT25181~8.5,square***Baretraps***825443164641\n",
      "sku,,BT25181~9,square***Baretraps***825443164658\n",
      "sku,,BT25181~9.5,square***Baretraps***825443164665\n",
      "sku,,BT25181~10,square***Baretraps***825443164672\n",
      "product,Sulana Short~1018823.,square***koolaburraUGG\n",
      "sku,,1018823~191142112468,square***koolaburraUGG***191142112468\n",
      "sku,,1018823~191142112475,square***koolaburraUGG***191142112475\n",
      "sku,,1018823~191142112512,square***koolaburraUGG***191142112512\n",
      "sku,,1018823~191142112529,square***koolaburraUGG***191142112529\n",
      "sku,,1018823~191142112536,square***koolaburraUGG***191142112536\n",
      "sku,,1018823~191142112543,square***koolaburraUGG***191142112543\n",
      "sku,,1018823~191142112574,square***koolaburraUGG***error\n",
      "sku,,1018823~191142112581,square***koolaburraUGG***error\n",
      "sku,,1018823~191142112628,square***koolaburraUGG***error\n",
      "sku,,1018823~191142112635,square***koolaburraUGG***error\n",
      "sku,,1018823~191142112642,square***koolaburraUGG***error\n",
      "sku,,1018823~191142112659,square***koolaburraUGG***error\n",
      "product,ISOCOOL Polyester Pillow~031374521.,square***Carpenter\n",
      "sku,,031374521488-Standard,square***Carpenter\n",
      "sku,,031374521501-King,square***Carpenter\n",
      "product,Dearfoams Textured Knit Bootie~50946.50946,square***RGBarry\n",
      "sku,,50946~Light Heather GreyS,square***RGBarry\n",
      "sku,,50946~Light Heather GreyM,square***RGBarry\n",
      "sku,,50946~Light Heather GreyL,square***RGBarry\n",
      "sku,,50946~Light Heather GreyXL,square***RGBarry\n",
      "product,Dearfoams Pile Fold Down Bootie~50937.50937,square***RGBarry\n",
      "sku,,50937~Brown FrostS,square***RGBarry\n",
      "sku,,50937~Brown FrostM,square***RGBarry\n",
      "sku,,50937~Brown FrostL,square***RGBarry\n",
      "sku,,50937~Brown FrostXL,square***RGBarry\n",
      "sku,,50937~BlackS,square***RGBarry\n",
      "sku,,50937~BlackM,square***RGBarry\n",
      "sku,,50937~BlackL,square***RGBarry\n",
      "sku,,50937~BlackXL,square***RGBarry\n",
      "product,Plus Dash Line Duster Cardigan~WSVR1107B.,square***notations\n",
      "sku,,WSVR1107~704975563248,square***notations\n",
      "sku,,WSVR1107~704975563255,square***notations\n",
      "sku,,WSVR1107~704975563262,square***notations\n",
      "product,Gallery Women's Casual Thigh Length Zip Puffer Jacket Removable Hood.,square***Gallery\n",
      "sku,,729732260161~Gallery,square***Gallery***729732260161\n",
      "sku,,729732260154~Gallery,square***Gallery***729732260154\n",
      "sku,,729732260147~Gallery,square***Gallery***729732260147\n",
      "sku,,729732260130~Gallery,square***Gallery***729732260130\n",
      "product,Isotoner Snowflake Hat with Pom Pom~A523J1.,square***Isotoner\n",
      "sku,,A523J1BMS1SZBlack Multi,square***Isotoner\n"
     ]
    }
   ],
   "source": [
    "for x in result.hits:\n",
    "    print(f'product,{x.name}.{x.sku},{x.bin_picking_number}')\n",
    "    for variant in x.variants:\n",
    "        print(f'sku,,{variant.sku},{variant.bin_picking_number}')"
   ]
  },
  {
   "cell_type": "code",
   "execution_count": null,
   "metadata": {},
   "outputs": [],
   "source": []
  },
  {
   "cell_type": "code",
   "execution_count": null,
   "metadata": {},
   "outputs": [],
   "source": []
  },
  {
   "cell_type": "code",
   "execution_count": null,
   "metadata": {},
   "outputs": [],
   "source": []
  },
  {
   "cell_type": "code",
   "execution_count": null,
   "metadata": {},
   "outputs": [],
   "source": []
  },
  {
   "cell_type": "code",
   "execution_count": null,
   "metadata": {},
   "outputs": [],
   "source": []
  }
 ],
 "metadata": {
  "kernelspec": {
   "display_name": "Python 3",
   "language": "python",
   "name": "python3"
  },
  "language_info": {
   "codemirror_mode": {
    "name": "ipython",
    "version": 3
   },
   "file_extension": ".py",
   "mimetype": "text/x-python",
   "name": "python",
   "nbconvert_exporter": "python",
   "pygments_lexer": "ipython3",
   "version": "3.6.6"
  }
 },
 "nbformat": 4,
 "nbformat_minor": 2
}
